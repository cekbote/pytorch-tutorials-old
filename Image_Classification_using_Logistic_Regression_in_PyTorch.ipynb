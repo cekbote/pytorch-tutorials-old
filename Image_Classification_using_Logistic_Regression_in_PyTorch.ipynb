{
  "nbformat": 4,
  "nbformat_minor": 0,
  "metadata": {
    "colab": {
      "name": "Image Classification using Logistic Regression in PyTorch.ipynb",
      "provenance": [],
      "authorship_tag": "ABX9TyNp2nhzk7qp9gq8BQ3xtPRo",
      "include_colab_link": true
    },
    "kernelspec": {
      "name": "python3",
      "display_name": "Python 3"
    }
  },
  "cells": [
    {
      "cell_type": "markdown",
      "metadata": {
        "id": "view-in-github",
        "colab_type": "text"
      },
      "source": [
        "<a href=\"https://colab.research.google.com/github/cekbote/pytorch-tutorials/blob/master/Image_Classification_using_Logistic_Regression_in_PyTorch.ipynb\" target=\"_parent\"><img src=\"https://colab.research.google.com/assets/colab-badge.svg\" alt=\"Open In Colab\"/></a>"
      ]
    },
    {
      "cell_type": "markdown",
      "metadata": {
        "id": "no8O1-9_b7Y8",
        "colab_type": "text"
      },
      "source": [
        "# Image Classification using Logistic Regression in PyTorch"
      ]
    },
    {
      "cell_type": "code",
      "metadata": {
        "id": "cjsYWTVYb3pn",
        "colab_type": "code",
        "colab": {}
      },
      "source": [
        "import torch\n",
        "import torchvision\n",
        "from torchvision.datasets import MNIST"
      ],
      "execution_count": 18,
      "outputs": []
    },
    {
      "cell_type": "code",
      "metadata": {
        "id": "03UsG1Thd64v",
        "colab_type": "code",
        "colab": {
          "base_uri": "https://localhost:8080/",
          "height": 35
        },
        "outputId": "fb55e5e1-8f83-4b8d-9af1-4481248be8b9"
      },
      "source": [
        "# Download training dataset\n",
        "\n",
        "# When this statement is executed for the first time, it downloads the data to \n",
        "# the data/ directory next to the notebook and creates a PyTorch Dataset. On \n",
        "# subsequent executions, the download is skipped as the data is already \n",
        "# downloaded. Let's check the size of the dataset.\n",
        "\n",
        "dataset = MNIST(root='data/', download=True)\n",
        "len(dataset)"
      ],
      "execution_count": 19,
      "outputs": [
        {
          "output_type": "execute_result",
          "data": {
            "text/plain": [
              "60000"
            ]
          },
          "metadata": {
            "tags": []
          },
          "execution_count": 19
        }
      ]
    },
    {
      "cell_type": "code",
      "metadata": {
        "id": "XooyTkZnec_g",
        "colab_type": "code",
        "colab": {
          "base_uri": "https://localhost:8080/",
          "height": 35
        },
        "outputId": "e2b1ffb7-1143-40d5-dc65-a78c27b79df8"
      },
      "source": [
        "# The dataset has 60,000 images which can be used to train the model. There is \n",
        "# also an additonal test set of 10,000 images which can be created by passing \n",
        "# train=False to the MNIST class.\n",
        "\n",
        "test_dataset = MNIST(root='data/', train=False)\n",
        "len(test_dataset)"
      ],
      "execution_count": 20,
      "outputs": [
        {
          "output_type": "execute_result",
          "data": {
            "text/plain": [
              "10000"
            ]
          },
          "metadata": {
            "tags": []
          },
          "execution_count": 20
        }
      ]
    },
    {
      "cell_type": "code",
      "metadata": {
        "id": "2FjaQ2kAfICA",
        "colab_type": "code",
        "colab": {
          "base_uri": "https://localhost:8080/",
          "height": 35
        },
        "outputId": "713339b9-4189-4c88-fbdd-2f8d78819351"
      },
      "source": [
        "dataset[0]"
      ],
      "execution_count": 21,
      "outputs": [
        {
          "output_type": "execute_result",
          "data": {
            "text/plain": [
              "(<PIL.Image.Image image mode=L size=28x28 at 0x7F9F822E2A20>, 5)"
            ]
          },
          "metadata": {
            "tags": []
          },
          "execution_count": 21
        }
      ]
    },
    {
      "cell_type": "code",
      "metadata": {
        "id": "uJxQDmsvfq47",
        "colab_type": "code",
        "colab": {}
      },
      "source": [
        "# It's a pair, consisting of a 28x28 image and a label. The image is an object \n",
        "# of the class PIL.Image.Image, which is a part of the Python imaging library \n",
        "# Pillow. We can view the image within Jupyter using matplotlib, the de-facto \n",
        "# plotting and graphing library for data science in Python.\n",
        "\n",
        "import matplotlib.pyplot as plt\n",
        "%matplotlib inline"
      ],
      "execution_count": 22,
      "outputs": []
    },
    {
      "cell_type": "code",
      "metadata": {
        "id": "ZPVDygecgPaz",
        "colab_type": "code",
        "colab": {
          "base_uri": "https://localhost:8080/",
          "height": 283
        },
        "outputId": "261abf51-d613-4378-da8f-81280f3548e9"
      },
      "source": [
        "image, label = dataset[0]\n",
        "plt.imshow(image)\n",
        "print('Label:', label)"
      ],
      "execution_count": 23,
      "outputs": [
        {
          "output_type": "stream",
          "text": [
            "Label: 5\n"
          ],
          "name": "stdout"
        },
        {
          "output_type": "display_data",
          "data": {
            "image/png": "[encoded data removed]",
            "text/plain": [
              "<Figure size 432x288 with 1 Axes>"
            ]
          },
          "metadata": {
            "tags": [],
            "needs_background": "light"
          }
        }
      ]
    },
    {
      "cell_type": "code",
      "metadata": {
        "id": "UWXiJkxag7Tj",
        "colab_type": "code",
        "colab": {
          "base_uri": "https://localhost:8080/",
          "height": 283
        },
        "outputId": "11b43ada-9178-45a7-b953-168e119c1eb6"
      },
      "source": [
        "image, label = dataset[10]\n",
        "plt.imshow(image)\n",
        "print('Label:', label)"
      ],
      "execution_count": 24,
      "outputs": [
        {
          "output_type": "stream",
          "text": [
            "Label: 3\n"
          ],
          "name": "stdout"
        },
        {
          "output_type": "display_data",
          "data": {
            "image/png": "[encoded data removed]",
            "text/plain": [
              "<Figure size 432x288 with 1 Axes>"
            ]
          },
          "metadata": {
            "tags": [],
            "needs_background": "light"
          }
        }
      ]
    },
    {
      "cell_type": "code",
      "metadata": {
        "id": "PGG8dDAUhB5k",
        "colab_type": "code",
        "colab": {
          "base_uri": "https://localhost:8080/",
          "height": 35
        },
        "outputId": "cd0e0d83-2130-4bbb-ab61-3b905e5c9f8b"
      },
      "source": [
        "type(image)"
      ],
      "execution_count": 25,
      "outputs": [
        {
          "output_type": "execute_result",
          "data": {
            "text/plain": [
              "PIL.Image.Image"
            ]
          },
          "metadata": {
            "tags": []
          },
          "execution_count": 25
        }
      ]
    },
    {
      "cell_type": "code",
      "metadata": {
        "id": "3sboc54-hk_m",
        "colab_type": "code",
        "colab": {}
      },
      "source": [
        "# PyTorch datasets allow us to specify one or more transformation functions \n",
        "# which are applied to the images as they are loaded. torchvision.transforms \n",
        "# contains many such predefined functions, and we'll use the ToTensor transform \n",
        "# to convert images into PyTorch tensors.\n",
        "\n",
        "import torchvision.transforms as transforms"
      ],
      "execution_count": 26,
      "outputs": []
    },
    {
      "cell_type": "code",
      "metadata": {
        "id": "YY7G6YcDhrOj",
        "colab_type": "code",
        "colab": {}
      },
      "source": [
        "dataset = MNIST(root='data/',\n",
        "                train=True,\n",
        "                transform=transforms.ToTensor())"
      ],
      "execution_count": 27,
      "outputs": []
    },
    {
      "cell_type": "code",
      "metadata": {
        "id": "ppWIanyniFds",
        "colab_type": "code",
        "colab": {
          "base_uri": "https://localhost:8080/",
          "height": 35
        },
        "outputId": "0aeba1b9-791a-4560-c246-e37497918ca7"
      },
      "source": [
        "# The first dimension is used to keep track of the color channels.\n",
        "\n",
        "img_tensor, label = dataset[0]\n",
        "print(img_tensor.shape, label)"
      ],
      "execution_count": 28,
      "outputs": [
        {
          "output_type": "stream",
          "text": [
            "torch.Size([1, 28, 28]) 5\n"
          ],
          "name": "stdout"
        }
      ]
    },
    {
      "cell_type": "code",
      "metadata": {
        "id": "nTSCjsWXiPKc",
        "colab_type": "code",
        "colab": {
          "base_uri": "https://localhost:8080/",
          "height": 127
        },
        "outputId": "9e6bdec9-8aa4-4915-d519-ca76750a3934"
      },
      "source": [
        "# The values range from 0 to 1, with 0 representing black, 1 white and the \n",
        "# values in between different shades of grey. We can also plot the tensor as an \n",
        "# image using plt.imshow.\n",
        "\n",
        "print(img_tensor[:, 10:15, 10:15])\n",
        "print(torch.max(img_tensor), torch.min(img_tensor))"
      ],
      "execution_count": 29,
      "outputs": [
        {
          "output_type": "stream",
          "text": [
            "tensor([[[0.0039, 0.6039, 0.9922, 0.3529, 0.0000],\n",
            "         [0.0000, 0.5451, 0.9922, 0.7451, 0.0078],\n",
            "         [0.0000, 0.0431, 0.7451, 0.9922, 0.2745],\n",
            "         [0.0000, 0.0000, 0.1373, 0.9451, 0.8824],\n",
            "         [0.0000, 0.0000, 0.0000, 0.3176, 0.9412]]])\n",
            "tensor(1.) tensor(0.)\n"
          ],
          "name": "stdout"
        }
      ]
    },
    {
      "cell_type": "code",
      "metadata": {
        "id": "M5FkIK4Ki2Z0",
        "colab_type": "code",
        "colab": {
          "base_uri": "https://localhost:8080/",
          "height": 283
        },
        "outputId": "2181767b-1f2b-4756-99dc-1dcf8766c8d1"
      },
      "source": [
        "plt.imshow(img_tensor[0, 10:15, 10:15])"
      ],
      "execution_count": 30,
      "outputs": [
        {
          "output_type": "execute_result",
          "data": {
            "text/plain": [
              "<matplotlib.image.AxesImage at 0x7f9f82030cf8>"
            ]
          },
          "metadata": {
            "tags": []
          },
          "execution_count": 30
        },
        {
          "output_type": "display_data",
          "data": {
            "image/png": "[encoded data removed]",
            "text/plain": [
              "<Figure size 432x288 with 1 Axes>"
            ]
          },
          "metadata": {
            "tags": [],
            "needs_background": "light"
          }
        }
      ]
    },
    {
      "cell_type": "code",
      "metadata": {
        "id": "vbQji_uElMLx",
        "colab_type": "code",
        "colab": {
          "base_uri": "https://localhost:8080/",
          "height": 35
        },
        "outputId": "a58ad78d-034e-4ccc-ef6b-3ee9252d8209"
      },
      "source": [
        "# Since there's no predefined validation set, we must manually split the 60,000 \n",
        "# images into training and validation datasets. Let's set aside 10,000 randomly \n",
        "# chosen images for validation. We can do this using the random_spilt method \n",
        "# from PyTorch.\n",
        "\n",
        "from torch.utils.data import random_split\n",
        "\n",
        "train_ds, val_ds = random_split(dataset, [50000, 10000])\n",
        "len(train_ds), len(val_ds)"
      ],
      "execution_count": 31,
      "outputs": [
        {
          "output_type": "execute_result",
          "data": {
            "text/plain": [
              "(50000, 10000)"
            ]
          },
          "metadata": {
            "tags": []
          },
          "execution_count": 31
        }
      ]
    },
    {
      "cell_type": "code",
      "metadata": {
        "id": "dZpt2iL0l-E5",
        "colab_type": "code",
        "colab": {}
      },
      "source": [
        "from torch.utils.data import DataLoader\n",
        "\n",
        "batch_size = 128\n",
        "\n",
        "train_loader = DataLoader(train_ds, batch_size, shuffle=True)\n",
        "val_loader = DataLoader(val_ds, batch_size, shuffle= True)"
      ],
      "execution_count": 32,
      "outputs": []
    },
    {
      "cell_type": "markdown",
      "metadata": {
        "id": "wVOZEgzcskuc",
        "colab_type": "text"
      },
      "source": [
        "## Model\n",
        "\n",
        "- A logistic regression model is almost identical to a linear regression model i.e. there are weights and bias matrices, and the output is obtained using simple matrix operations (pred = x @ w.t() + b).\n",
        "\n",
        "- Just as we did with linear regression, we can use nn.Linear to create the model instead of defining and initializing the matrices manually.\n",
        "\n",
        "- Since nn.Linear expects the each training example to be a vector, each 1x28x28 image tensor needs to be flattened out into a vector of size 784 (28*28), before being passed into the model.\n",
        "\n",
        "- The output for each image is vector of size 10, with each element of the vector signifying the probability a particular target label (i.e. 0 to 9). The predicted label for an image is simply the one with the highest probability."
      ]
    },
    {
      "cell_type": "code",
      "metadata": {
        "id": "kVBsMW27r7Lr",
        "colab_type": "code",
        "colab": {}
      },
      "source": [
        "import torch.nn as nn\n",
        "\n",
        "input_size = 28*28\n",
        "num_classes = 10\n",
        "\n",
        "# Logistic Regression Model\n",
        "model = nn.Linear(input_size, num_classes)"
      ],
      "execution_count": 33,
      "outputs": []
    },
    {
      "cell_type": "code",
      "metadata": {
        "id": "kZwjgT9Mk1g5",
        "colab_type": "code",
        "colab": {
          "base_uri": "https://localhost:8080/",
          "height": 201
        },
        "outputId": "1eed464a-2499-4bab-ade9-6fe92e31d6c7"
      },
      "source": [
        "print(model.weight.shape)\n",
        "print(model.weight)"
      ],
      "execution_count": 34,
      "outputs": [
        {
          "output_type": "stream",
          "text": [
            "torch.Size([10, 784])\n",
            "Parameter containing:\n",
            "tensor([[-0.0186,  0.0195,  0.0183,  ...,  0.0114, -0.0328, -0.0329],\n",
            "        [ 0.0108,  0.0286,  0.0052,  ..., -0.0341, -0.0320, -0.0016],\n",
            "        [ 0.0079, -0.0114,  0.0080,  ...,  0.0310, -0.0239,  0.0247],\n",
            "        ...,\n",
            "        [-0.0349,  0.0325, -0.0343,  ..., -0.0229, -0.0353, -0.0142],\n",
            "        [ 0.0357, -0.0181, -0.0345,  ..., -0.0270,  0.0044, -0.0355],\n",
            "        [-0.0057,  0.0033,  0.0072,  ...,  0.0238,  0.0010,  0.0115]],\n",
            "       requires_grad=True)\n"
          ],
          "name": "stdout"
        }
      ]
    },
    {
      "cell_type": "code",
      "metadata": {
        "id": "sSFXD_6hk7EM",
        "colab_type": "code",
        "colab": {
          "base_uri": "https://localhost:8080/",
          "height": 110
        },
        "outputId": "8f4d2a0f-a10c-4c2d-d68b-d06e3875a35c"
      },
      "source": [
        "print(model.bias.shape)\n",
        "print(model.bias)"
      ],
      "execution_count": 35,
      "outputs": [
        {
          "output_type": "stream",
          "text": [
            "torch.Size([10])\n",
            "Parameter containing:\n",
            "tensor([-0.0189,  0.0045, -0.0317, -0.0004,  0.0060, -0.0060, -0.0055,  0.0277,\n",
            "         0.0020,  0.0058], requires_grad=True)\n"
          ],
          "name": "stdout"
        }
      ]
    },
    {
      "cell_type": "code",
      "metadata": {
        "id": "AWvhapW3lA2b",
        "colab_type": "code",
        "colab": {
          "base_uri": "https://localhost:8080/",
          "height": 453
        },
        "outputId": "ab5aab96-fbcb-4455-ac3e-97b82d06dd3e"
      },
      "source": [
        "for images, labels in train_loader:\n",
        "  print(labels.shape)\n",
        "  print(images.shape)\n",
        "  outputs = model(images)\n",
        "  break"
      ],
      "execution_count": 36,
      "outputs": [
        {
          "output_type": "stream",
          "text": [
            "torch.Size([128])\n",
            "torch.Size([128, 1, 28, 28])\n"
          ],
          "name": "stdout"
        },
        {
          "output_type": "error",
          "ename": "RuntimeError",
          "evalue": "ignored",
          "traceback": [
            "\u001b[0;31m---------------------------------------------------------------------------\u001b[0m",
            "\u001b[0;31mRuntimeError\u001b[0m                              Traceback (most recent call last)",
            "\u001b[0;32m<ipython-input-36-a31a52c51be7>\u001b[0m in \u001b[0;36m<module>\u001b[0;34m()\u001b[0m\n\u001b[1;32m      2\u001b[0m   \u001b[0mprint\u001b[0m\u001b[0;34m(\u001b[0m\u001b[0mlabels\u001b[0m\u001b[0;34m.\u001b[0m\u001b[0mshape\u001b[0m\u001b[0;34m)\u001b[0m\u001b[0;34m\u001b[0m\u001b[0;34m\u001b[0m\u001b[0m\n\u001b[1;32m      3\u001b[0m   \u001b[0mprint\u001b[0m\u001b[0;34m(\u001b[0m\u001b[0mimages\u001b[0m\u001b[0;34m.\u001b[0m\u001b[0mshape\u001b[0m\u001b[0;34m)\u001b[0m\u001b[0;34m\u001b[0m\u001b[0;34m\u001b[0m\u001b[0m\n\u001b[0;32m----> 4\u001b[0;31m   \u001b[0moutputs\u001b[0m \u001b[0;34m=\u001b[0m \u001b[0mmodel\u001b[0m\u001b[0;34m(\u001b[0m\u001b[0mimages\u001b[0m\u001b[0;34m)\u001b[0m\u001b[0;34m\u001b[0m\u001b[0;34m\u001b[0m\u001b[0m\n\u001b[0m\u001b[1;32m      5\u001b[0m   \u001b[0;32mbreak\u001b[0m\u001b[0;34m\u001b[0m\u001b[0;34m\u001b[0m\u001b[0m\n",
            "\u001b[0;32m/usr/local/lib/python3.6/dist-packages/torch/nn/modules/module.py\u001b[0m in \u001b[0;36m_call_impl\u001b[0;34m(self, *input, **kwargs)\u001b[0m\n\u001b[1;32m    720\u001b[0m             \u001b[0mresult\u001b[0m \u001b[0;34m=\u001b[0m \u001b[0mself\u001b[0m\u001b[0;34m.\u001b[0m\u001b[0m_slow_forward\u001b[0m\u001b[0;34m(\u001b[0m\u001b[0;34m*\u001b[0m\u001b[0minput\u001b[0m\u001b[0;34m,\u001b[0m \u001b[0;34m**\u001b[0m\u001b[0mkwargs\u001b[0m\u001b[0;34m)\u001b[0m\u001b[0;34m\u001b[0m\u001b[0;34m\u001b[0m\u001b[0m\n\u001b[1;32m    721\u001b[0m         \u001b[0;32melse\u001b[0m\u001b[0;34m:\u001b[0m\u001b[0;34m\u001b[0m\u001b[0;34m\u001b[0m\u001b[0m\n\u001b[0;32m--> 722\u001b[0;31m             \u001b[0mresult\u001b[0m \u001b[0;34m=\u001b[0m \u001b[0mself\u001b[0m\u001b[0;34m.\u001b[0m\u001b[0mforward\u001b[0m\u001b[0;34m(\u001b[0m\u001b[0;34m*\u001b[0m\u001b[0minput\u001b[0m\u001b[0;34m,\u001b[0m \u001b[0;34m**\u001b[0m\u001b[0mkwargs\u001b[0m\u001b[0;34m)\u001b[0m\u001b[0;34m\u001b[0m\u001b[0;34m\u001b[0m\u001b[0m\n\u001b[0m\u001b[1;32m    723\u001b[0m         for hook in itertools.chain(\n\u001b[1;32m    724\u001b[0m                 \u001b[0m_global_forward_hooks\u001b[0m\u001b[0;34m.\u001b[0m\u001b[0mvalues\u001b[0m\u001b[0;34m(\u001b[0m\u001b[0;34m)\u001b[0m\u001b[0;34m,\u001b[0m\u001b[0;34m\u001b[0m\u001b[0;34m\u001b[0m\u001b[0m\n",
            "\u001b[0;32m/usr/local/lib/python3.6/dist-packages/torch/nn/modules/linear.py\u001b[0m in \u001b[0;36mforward\u001b[0;34m(self, input)\u001b[0m\n\u001b[1;32m     89\u001b[0m \u001b[0;34m\u001b[0m\u001b[0m\n\u001b[1;32m     90\u001b[0m     \u001b[0;32mdef\u001b[0m \u001b[0mforward\u001b[0m\u001b[0;34m(\u001b[0m\u001b[0mself\u001b[0m\u001b[0;34m,\u001b[0m \u001b[0minput\u001b[0m\u001b[0;34m:\u001b[0m \u001b[0mTensor\u001b[0m\u001b[0;34m)\u001b[0m \u001b[0;34m->\u001b[0m \u001b[0mTensor\u001b[0m\u001b[0;34m:\u001b[0m\u001b[0;34m\u001b[0m\u001b[0;34m\u001b[0m\u001b[0m\n\u001b[0;32m---> 91\u001b[0;31m         \u001b[0;32mreturn\u001b[0m \u001b[0mF\u001b[0m\u001b[0;34m.\u001b[0m\u001b[0mlinear\u001b[0m\u001b[0;34m(\u001b[0m\u001b[0minput\u001b[0m\u001b[0;34m,\u001b[0m \u001b[0mself\u001b[0m\u001b[0;34m.\u001b[0m\u001b[0mweight\u001b[0m\u001b[0;34m,\u001b[0m \u001b[0mself\u001b[0m\u001b[0;34m.\u001b[0m\u001b[0mbias\u001b[0m\u001b[0;34m)\u001b[0m\u001b[0;34m\u001b[0m\u001b[0;34m\u001b[0m\u001b[0m\n\u001b[0m\u001b[1;32m     92\u001b[0m \u001b[0;34m\u001b[0m\u001b[0m\n\u001b[1;32m     93\u001b[0m     \u001b[0;32mdef\u001b[0m \u001b[0mextra_repr\u001b[0m\u001b[0;34m(\u001b[0m\u001b[0mself\u001b[0m\u001b[0;34m)\u001b[0m \u001b[0;34m->\u001b[0m \u001b[0mstr\u001b[0m\u001b[0;34m:\u001b[0m\u001b[0;34m\u001b[0m\u001b[0;34m\u001b[0m\u001b[0m\n",
            "\u001b[0;32m/usr/local/lib/python3.6/dist-packages/torch/nn/functional.py\u001b[0m in \u001b[0;36mlinear\u001b[0;34m(input, weight, bias)\u001b[0m\n\u001b[1;32m   1674\u001b[0m         \u001b[0mret\u001b[0m \u001b[0;34m=\u001b[0m \u001b[0mtorch\u001b[0m\u001b[0;34m.\u001b[0m\u001b[0maddmm\u001b[0m\u001b[0;34m(\u001b[0m\u001b[0mbias\u001b[0m\u001b[0;34m,\u001b[0m \u001b[0minput\u001b[0m\u001b[0;34m,\u001b[0m \u001b[0mweight\u001b[0m\u001b[0;34m.\u001b[0m\u001b[0mt\u001b[0m\u001b[0;34m(\u001b[0m\u001b[0;34m)\u001b[0m\u001b[0;34m)\u001b[0m\u001b[0;34m\u001b[0m\u001b[0;34m\u001b[0m\u001b[0m\n\u001b[1;32m   1675\u001b[0m     \u001b[0;32melse\u001b[0m\u001b[0;34m:\u001b[0m\u001b[0;34m\u001b[0m\u001b[0;34m\u001b[0m\u001b[0m\n\u001b[0;32m-> 1676\u001b[0;31m         \u001b[0moutput\u001b[0m \u001b[0;34m=\u001b[0m \u001b[0minput\u001b[0m\u001b[0;34m.\u001b[0m\u001b[0mmatmul\u001b[0m\u001b[0;34m(\u001b[0m\u001b[0mweight\u001b[0m\u001b[0;34m.\u001b[0m\u001b[0mt\u001b[0m\u001b[0;34m(\u001b[0m\u001b[0;34m)\u001b[0m\u001b[0;34m)\u001b[0m\u001b[0;34m\u001b[0m\u001b[0;34m\u001b[0m\u001b[0m\n\u001b[0m\u001b[1;32m   1677\u001b[0m         \u001b[0;32mif\u001b[0m \u001b[0mbias\u001b[0m \u001b[0;32mis\u001b[0m \u001b[0;32mnot\u001b[0m \u001b[0;32mNone\u001b[0m\u001b[0;34m:\u001b[0m\u001b[0;34m\u001b[0m\u001b[0;34m\u001b[0m\u001b[0m\n\u001b[1;32m   1678\u001b[0m             \u001b[0moutput\u001b[0m \u001b[0;34m+=\u001b[0m \u001b[0mbias\u001b[0m\u001b[0;34m\u001b[0m\u001b[0;34m\u001b[0m\u001b[0m\n",
            "\u001b[0;31mRuntimeError\u001b[0m: size mismatch, m1: [3584 x 28], m2: [784 x 10] at /pytorch/aten/src/TH/generic/THTensorMath.cpp:41"
          ]
        }
      ]
    },
    {
      "cell_type": "markdown",
      "metadata": {
        "id": "rVPRMjAhlTcJ",
        "colab_type": "text"
      },
      "source": [
        "The errod was caused due to the fact \n",
        "that we have to reshape the input image into a 784 vector."
      ]
    },
    {
      "cell_type": "code",
      "metadata": {
        "id": "1oJgyiLMlRcx",
        "colab_type": "code",
        "colab": {}
      },
      "source": [
        "# We'll have to use the reshape method of a class.\n",
        "\n",
        "# To include this additional functionality within our model, we need to define\n",
        "# a custom model, by extending the nn.Module class from PyTorch.\n",
        "\n",
        "# Inside the __init__ constructor method, we instantiate the weights and biases \n",
        "# using nn.Linear. And inside the forward method, which is invoked when we pass \n",
        "# a batch of inputs to the model, we flatten out the input tensor, and then \n",
        "# pass it into self.linear.\n",
        "\n",
        "# xb.reshape(-1, 28*28) indicates to PyTorch that we want a view of the xb \n",
        "# tensor with two dimensions, where the length along the 2nd dimension is \n",
        "# 28*28 (i.e. 784). One argument to .reshape can be set to -1 (in this case \n",
        "# the first dimension), to let PyTorch figure it out automatically based on the \n",
        "# shape of the original tensor. Note that the model no longer has .weight and \n",
        "# .bias attributes (as they are now inside the .linear attribute), but it does \n",
        "# have a .parameters method which returns a list containing the weights and \n",
        "# bias, and can be used by a PyTorch optimizer.\n",
        "\n",
        "class MnistModel(nn.Module):\n",
        "  def __init__(self):\n",
        "    super().__init__()\n",
        "    self.linear = nn.Linear(input_size, num_classes)\n",
        "  \n",
        "  def forward(self, xb):\n",
        "    xb = xb.reshape(-1, 784)\n",
        "    out = self.linear(xb)\n",
        "    return out\n",
        "\n",
        "model = MnistModel()"
      ],
      "execution_count": 37,
      "outputs": []
    },
    {
      "cell_type": "code",
      "metadata": {
        "id": "oA_1Auqrqmes",
        "colab_type": "code",
        "colab": {
          "base_uri": "https://localhost:8080/",
          "height": 276
        },
        "outputId": "238f17f3-1d06-467e-c744-e2c85671523d"
      },
      "source": [
        "print(model.linear.weight.shape,  model.linear.bias.shape)\n",
        "print(model.parameters())\n",
        "print(list(model.parameters()))"
      ],
      "execution_count": 40,
      "outputs": [
        {
          "output_type": "stream",
          "text": [
            "torch.Size([10, 784]) torch.Size([10])\n",
            "<generator object Module.parameters at 0x7f9f82853af0>\n",
            "[Parameter containing:\n",
            "tensor([[-0.0030, -0.0092, -0.0169,  ...,  0.0163,  0.0187,  0.0328],\n",
            "        [ 0.0098, -0.0051,  0.0337,  ...,  0.0036,  0.0129,  0.0339],\n",
            "        [-0.0147,  0.0058,  0.0121,  ..., -0.0010,  0.0094, -0.0254],\n",
            "        ...,\n",
            "        [ 0.0040, -0.0282,  0.0134,  ...,  0.0045, -0.0130,  0.0107],\n",
            "        [ 0.0246, -0.0221,  0.0129,  ..., -0.0262,  0.0314, -0.0049],\n",
            "        [ 0.0228,  0.0082, -0.0167,  ..., -0.0073, -0.0133, -0.0316]],\n",
            "       requires_grad=True), Parameter containing:\n",
            "tensor([-0.0083,  0.0354, -0.0158, -0.0202, -0.0204, -0.0322,  0.0008,  0.0110,\n",
            "        -0.0317,  0.0201], requires_grad=True)]\n"
          ],
          "name": "stdout"
        }
      ]
    },
    {
      "cell_type": "code",
      "metadata": {
        "id": "95vWZdDZq1Og",
        "colab_type": "code",
        "colab": {
          "base_uri": "https://localhost:8080/",
          "height": 129
        },
        "outputId": "a6a6185b-1593-4286-8b3d-fb3e5a76fe4b"
      },
      "source": [
        "# Our custom model will be used in the same way as before.\n",
        "\n",
        "for images, labels in train_loader:\n",
        "  outputs = model(images)\n",
        "  break\n",
        "\n",
        "print('Outputs Shape:', outputs.shape)\n",
        "print('Sample Outputs', outputs[:2])"
      ],
      "execution_count": 43,
      "outputs": [
        {
          "output_type": "stream",
          "text": [
            "Outputs Shape: torch.Size([128, 10])\n",
            "Sample Outputs tensor([[ 0.2215,  0.4231, -0.2384, -0.1460,  0.1881, -0.0706, -0.0059, -0.1352,\n",
            "         -0.1723,  0.4107],\n",
            "        [-0.1047,  0.2371, -0.1919, -0.1081,  0.0691, -0.2057,  0.2078, -0.0733,\n",
            "         -0.2824,  0.1169]], grad_fn=<SliceBackward>)\n"
          ],
          "name": "stdout"
        }
      ]
    },
    {
      "cell_type": "code",
      "metadata": {
        "id": "M6ufK6xXrh-e",
        "colab_type": "code",
        "colab": {
          "base_uri": "https://localhost:8080/",
          "height": 129
        },
        "outputId": "47b39a51-9474-47f9-a8fa-9ca8e1482cb8"
      },
      "source": [
        "# The softmax function is included in the torch.nn.functional package, and \n",
        "# requires us to specify a dimension along which the softmax must be applied.\n",
        "\n",
        "import torch.nn.functional as F\n",
        "\n",
        "# Apply softmax for each output row\n",
        "probs = F.softmax(outputs, dim=1)\n",
        "\n",
        "# Look at sample probabilities\n",
        "print(\"Sample probabilities:\", probs[:2])\n",
        "\n",
        "# Add the probabilities of an output row\n",
        "print(\"Sum:\", torch.sum(probs[0]))"
      ],
      "execution_count": 45,
      "outputs": [
        {
          "output_type": "stream",
          "text": [
            "Sample probabilities: tensor([[0.1157, 0.1416, 0.0731, 0.0801, 0.1119, 0.0864, 0.0922, 0.0810, 0.0781,\n",
            "         0.1398],\n",
            "        [0.0918, 0.1291, 0.0841, 0.0914, 0.1092, 0.0829, 0.1254, 0.0947, 0.0768,\n",
            "         0.1145]], grad_fn=<SliceBackward>)\n",
            "Sum: tensor(1., grad_fn=<SumBackward0>)\n"
          ],
          "name": "stdout"
        }
      ]
    },
    {
      "cell_type": "code",
      "metadata": {
        "id": "hPCIHa5JtsNJ",
        "colab_type": "code",
        "colab": {
          "base_uri": "https://localhost:8080/",
          "height": 423
        },
        "outputId": "9c94a5b7-615d-4f17-fbf9-333490572981"
      },
      "source": [
        "# We can determine the maximum predicted element by just taking the the maximum\n",
        "# probability. We use torch.max to get the maximum.\n",
        "\n",
        "max_probs, preds = torch.max(probs, dim=1)\n",
        "print(preds)\n",
        "print(max_probs)"
      ],
      "execution_count": 47,
      "outputs": [
        {
          "output_type": "stream",
          "text": [
            "tensor([1, 1, 7, 0, 0, 5, 7, 7, 7, 6, 0, 6, 7, 7, 6, 0, 4, 4, 0, 0, 7, 1, 1, 7,\n",
            "        1, 1, 7, 9, 7, 7, 1, 9, 0, 7, 0, 0, 0, 9, 7, 6, 7, 7, 6, 9, 7, 0, 1, 7,\n",
            "        7, 6, 7, 1, 7, 1, 0, 7, 6, 9, 6, 6, 9, 7, 0, 0, 0, 0, 7, 6, 4, 7, 6, 0,\n",
            "        9, 7, 1, 1, 1, 1, 7, 6, 9, 6, 7, 7, 7, 7, 7, 1, 7, 0, 7, 7, 6, 7, 9, 9,\n",
            "        0, 7, 5, 7, 9, 6, 6, 7, 6, 1, 0, 7, 0, 0, 9, 1, 6, 7, 5, 0, 7, 0, 4, 1,\n",
            "        7, 0, 4, 4, 6, 0, 7, 7])\n",
            "tensor([0.1416, 0.1291, 0.1482, 0.1209, 0.1452, 0.1089, 0.1167, 0.1225, 0.1270,\n",
            "        0.1372, 0.1187, 0.1331, 0.1277, 0.1309, 0.1310, 0.1247, 0.1271, 0.1128,\n",
            "        0.1242, 0.1231, 0.1383, 0.1358, 0.1281, 0.1309, 0.1195, 0.1213, 0.1166,\n",
            "        0.1149, 0.1214, 0.1357, 0.1223, 0.1526, 0.1331, 0.1507, 0.1200, 0.1193,\n",
            "        0.1314, 0.1328, 0.1331, 0.1201, 0.1143, 0.1360, 0.1173, 0.1158, 0.1265,\n",
            "        0.1233, 0.1528, 0.1282, 0.1339, 0.1280, 0.1290, 0.1317, 0.1267, 0.1236,\n",
            "        0.1296, 0.1408, 0.1337, 0.1284, 0.1210, 0.1348, 0.1144, 0.1325, 0.1321,\n",
            "        0.1250, 0.1282, 0.1263, 0.1475, 0.1246, 0.1187, 0.1280, 0.1243, 0.1210,\n",
            "        0.1188, 0.1297, 0.1147, 0.1138, 0.1142, 0.1368, 0.1226, 0.1413, 0.1108,\n",
            "        0.1079, 0.1248, 0.1162, 0.1347, 0.1287, 0.1202, 0.1182, 0.1402, 0.1423,\n",
            "        0.1546, 0.1398, 0.1286, 0.1382, 0.1511, 0.1336, 0.1344, 0.1500, 0.1234,\n",
            "        0.1340, 0.1403, 0.1256, 0.1358, 0.1199, 0.1206, 0.1281, 0.1358, 0.1224,\n",
            "        0.1188, 0.1310, 0.1312, 0.1188, 0.1264, 0.1350, 0.1174, 0.1205, 0.1182,\n",
            "        0.1164, 0.1284, 0.1315, 0.1382, 0.1290, 0.1348, 0.1293, 0.1185, 0.1420,\n",
            "        0.1204, 0.1160], grad_fn=<MaxBackward0>)\n"
          ],
          "name": "stdout"
        }
      ]
    },
    {
      "cell_type": "code",
      "metadata": {
        "id": "WPWE4nlYwG2j",
        "colab_type": "code",
        "colab": {}
      },
      "source": [
        ""
      ],
      "execution_count": null,
      "outputs": []
    }
  ]
}