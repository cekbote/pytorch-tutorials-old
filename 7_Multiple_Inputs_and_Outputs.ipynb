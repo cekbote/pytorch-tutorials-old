{
 "cells": [
  {
   "cell_type": "markdown",
   "metadata": {},
   "source": [
    "# Using Networks with Multiple Inputs and Outputs"
   ]
  },
  {
   "cell_type": "markdown",
   "metadata": {},
   "source": [
    "## Links Used\n",
    " - [How to construct a network with two inputs in PyTorch](https://stackoverflow.com/questions/51700729/how-to-construct-a-network-with-two-inputs-in-pytorch)"
   ]
  },
  {
   "cell_type": "markdown",
   "metadata": {},
   "source": [
    "## Importing the Libraries"
   ]
  },
  {
   "cell_type": "code",
   "execution_count": 29,
   "metadata": {},
   "outputs": [],
   "source": [
    "import torch\n",
    "import torch.nn as nn\n",
    "import torch.optim as optim\n",
    "import torch.nn.functional as F"
   ]
  },
  {
   "cell_type": "markdown",
   "metadata": {},
   "source": [
    "## Creating a Pseudo Model"
   ]
  },
  {
   "cell_type": "code",
   "execution_count": 30,
   "metadata": {},
   "outputs": [],
   "source": [
    "class TwoNet(nn.Module):\n",
    "    \n",
    "    def __init__(self):\n",
    "        super(TwoNet, self).__init__()\n",
    "        self.f1 = nn.Linear(3, 2)\n",
    "        self.f2 = nn.Linear(3, 2)\n",
    "        \n",
    "    def forward(self, input1, input2):\n",
    "        out_1 = self.f1(input_1)\n",
    "        out_2 = self.f2(input_2)\n",
    "        out = out_1 + out_2\n",
    "        return out"
   ]
  },
  {
   "cell_type": "code",
   "execution_count": 31,
   "metadata": {},
   "outputs": [
    {
     "data": {
      "text/plain": [
       "TwoNet(\n",
       "  (f1): Linear(in_features=3, out_features=2, bias=True)\n",
       "  (f2): Linear(in_features=3, out_features=2, bias=True)\n",
       ")"
      ]
     },
     "execution_count": 31,
     "metadata": {},
     "output_type": "execute_result"
    }
   ],
   "source": [
    "model = TwoNet()\n",
    "model.eval()"
   ]
  },
  {
   "cell_type": "markdown",
   "metadata": {},
   "source": [
    "## Checking If the Model Works"
   ]
  },
  {
   "cell_type": "code",
   "execution_count": 32,
   "metadata": {},
   "outputs": [
    {
     "name": "stdout",
     "output_type": "stream",
     "text": [
      "Parameter containing:\n",
      "tensor([[-0.1770,  0.4861, -0.1690],\n",
      "        [ 0.4799, -0.5607, -0.1139]], requires_grad=True)\n",
      "Parameter containing:\n",
      "tensor([-0.3397, -0.3146], requires_grad=True)\n",
      "Parameter containing:\n",
      "tensor([[-0.1165,  0.3833, -0.0081],\n",
      "        [-0.0513, -0.4427,  0.0206]], requires_grad=True)\n",
      "Parameter containing:\n",
      "tensor([-0.0471, -0.4016], requires_grad=True)\n"
     ]
    }
   ],
   "source": [
    "for i in model.parameters():\n",
    "    print(i)"
   ]
  },
  {
   "cell_type": "code",
   "execution_count": 33,
   "metadata": {},
   "outputs": [],
   "source": [
    "input_1 = torch.randn(2, 3)\n",
    "input_2 = torch.randn(2, 3)"
   ]
  },
  {
   "cell_type": "code",
   "execution_count": 34,
   "metadata": {
    "scrolled": true
   },
   "outputs": [
    {
     "name": "stdout",
     "output_type": "stream",
     "text": [
      "torch.Size([2, 2])\n",
      "tensor([[-0.5524, -1.3399],\n",
      "        [ 1.2091, -2.7553]], grad_fn=<AddBackward0>)\n"
     ]
    }
   ],
   "source": [
    "out = model(input_1, input_2)\n",
    "print(out.size())\n",
    "print(out)"
   ]
  },
  {
   "cell_type": "markdown",
   "metadata": {},
   "source": [
    "## Checking if the Gradients Backpropogate"
   ]
  },
  {
   "cell_type": "code",
   "execution_count": 35,
   "metadata": {},
   "outputs": [],
   "source": [
    "actual_output = torch.randn((2, 2))"
   ]
  },
  {
   "cell_type": "code",
   "execution_count": 36,
   "metadata": {
    "scrolled": true
   },
   "outputs": [
    {
     "name": "stdout",
     "output_type": "stream",
     "text": [
      "tensor(13.1771, grad_fn=<SumBackward0>)\n"
     ]
    }
   ],
   "source": [
    "loss = torch.sum((actual_output-out)*(actual_output-out))\n",
    "print(loss)"
   ]
  },
  {
   "cell_type": "code",
   "execution_count": 37,
   "metadata": {},
   "outputs": [],
   "source": [
    "loss.backward()"
   ]
  },
  {
   "cell_type": "code",
   "execution_count": 43,
   "metadata": {},
   "outputs": [
    {
     "name": "stdout",
     "output_type": "stream",
     "text": [
      "F1 Grad: tensor([[  1.1681,  -2.3881,  -4.3994],\n",
      "        [  4.5854, -14.3296, -11.7378]])\n",
      "F2 Grad: tensor([[ 0.3781, -0.3503,  5.1552],\n",
      "        [ 0.3790, -3.3202, 11.1682]])\n"
     ]
    }
   ],
   "source": [
    "print('F1 Weight')\n",
    "print('F1 Grad: {}'.format(model.f1.weight.grad))\n",
    "print('F2 Grad: {}'.format(model.f2.weight.grad))"
   ]
  },
  {
   "cell_type": "code",
   "execution_count": null,
   "metadata": {},
   "outputs": [],
   "source": []
  }
 ],
 "metadata": {
  "kernelspec": {
   "display_name": "Python 3",
   "language": "python",
   "name": "python3"
  },
  "language_info": {
   "codemirror_mode": {
    "name": "ipython",
    "version": 3
   },
   "file_extension": ".py",
   "mimetype": "text/x-python",
   "name": "python",
   "nbconvert_exporter": "python",
   "pygments_lexer": "ipython3",
   "version": "3.8.5"
  }
 },
 "nbformat": 4,
 "nbformat_minor": 4
}
